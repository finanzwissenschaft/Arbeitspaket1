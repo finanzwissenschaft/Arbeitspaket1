{
 "cells": [
  {
   "cell_type": "code",
   "execution_count": 1,
   "id": "020c88de-ae3f-4793-87ee-cb8a7f23c965",
   "metadata": {
    "extensions": {
     "jupyter_dashboards": {
      "activeView": "grid_default",
      "views": {
       "grid_default": {
        "col": null,
        "height": 2,
        "hidden": true,
        "locked": true,
        "row": null,
        "width": 2
       }
      }
     }
    },
    "tags": []
   },
   "outputs": [],
   "source": [
    "from __future__ import print_function\n",
    "from ipywidgets import interact, interactive, fixed, interact_manual\n",
    "import ipywidgets as widgets\n",
    "from ipywidgets import Box\n",
    "from IPython.core.display import HTML\n",
    "from IPython.display import IFrame\n",
    "import tkinter as tk\n",
    "\n",
    "import builtins"
   ]
  },
  {
   "cell_type": "code",
   "execution_count": 2,
   "id": "3fffbb2b-d3ff-4b3f-b1c8-30bf2c6f1c56",
   "metadata": {
    "extensions": {
     "jupyter_dashboards": {
      "activeView": "grid_default",
      "views": {
       "grid_default": {
        "col": 7,
        "height": 3,
        "hidden": true,
        "locked": true,
        "row": 13,
        "width": 5
       }
      }
     }
    },
    "tags": []
   },
   "outputs": [
    {
     "data": {
      "application/vnd.jupyter.widget-view+json": {
       "model_id": "43b8b87dbc5141c98265392f97be0cd4",
       "version_major": 2,
       "version_minor": 0
      },
      "text/plain": [
       "A Jupyter Widget"
      ]
     },
     "metadata": {},
     "output_type": "display_data"
    }
   ],
   "source": [
    "file = builtins.open(\"Bilder/Logo.png\", \"rb\")\n",
    "image = file.read()\n",
    "bild_Logo = widgets.Image(\n",
    "    value=image,\n",
    "    format='png',\n",
    "    width=200,\n",
    "   #height=128,\n",
    "    )\n",
    "bild_Logo"
   ]
  },
  {
   "cell_type": "markdown",
   "id": "073a0940-9773-4164-872f-fe214a172bce",
   "metadata": {
    "extensions": {
     "jupyter_dashboards": {
      "activeView": "grid_default",
      "views": {
       "grid_default": {
        "col": null,
        "height": 2,
        "hidden": true,
        "locked": true,
        "row": null,
        "width": 2
       }
      }
     }
    }
   },
   "source": [
    "# <span style=\"font-family:Century Gothic;color:DarkCyan\">Arbeitsblatt 1</span>"
   ]
  },
  {
   "cell_type": "markdown",
   "id": "cfc77099-c28e-4246-834d-2cdbb4f7feae",
   "metadata": {
    "extensions": {
     "jupyter_dashboards": {
      "activeView": "grid_default",
      "views": {
       "grid_default": {
        "col": null,
        "height": 2,
        "hidden": true,
        "locked": true,
        "row": null,
        "width": 2
       }
      }
     }
    },
    "tags": []
   },
   "source": [
    "## <span style=\"font-family:Century Gothic;color:DarkCyan\"> Generelle Hinweise für den Kurs „Staat und Markt“ </span>\n",
    "\n",
    "<div class=\"alert alert-block alert-info\"><b>Übungen</b><br>\n",
    "Es wird jede Woche einen Übungstermin geben. Bitte bereiten Sie die Übungen vorab zu Hause vor, indem Sie versuchen, die Aufgaben mithilfe der Vorlesungsfolien und, falls nötig, weiterführender Quellen selbstständig zu lösen. Am Übungstermin selbst werden nur offene Fragen sowie ergänzende Hinweise behandelt. Für die in der Übung werden keine Musterlösungen hochgeladen. Ihre eigenen Aufschriebe sind also für den Lernerfolg essentiell. \n",
    "<br>\n",
    "Zur optimalen Aufbereitung des Stoffes greifen wir auf zwei verschiedene Formate zurück. Zum einen digitale Arbeitsblätter (wie dieses hier), zum anderen klassische Arbeitsblätter im pdf-Format. Digitale Arbeitsblätter sind in der folgenden Übersicht mit &#10026; gekennzeichnet. Die Arbeitsblätter werden Ihnen jeweils eine Woche vorher zur Verfügung gestellt.\n",
    "<ul>\n",
    "    <li>Kapitel 1 &#10026; </li>\n",
    "    <li>Kapitel 2 &#10026; </li>\n",
    "    <li>Kapitel 3 </li>\n",
    "    <li>Kapitel 4 </li>\n",
    "    <li>Kapitel 5 &#10026; </li>\n",
    "    <li>Kapitel 6 </li>\n",
    "</ul>\n",
    "</div>\n",
    "\n",
    "<div class=\"alert alert-block alert-info\"><b>Tutorium</b><br>\n",
    "Es wird ein Tutoriumstermin pro Woche angeboten. Ziele des Tutoriums sind gezieltes Schließen von Lücken und Beheben von Verständnisschwierigkeiten sowie zusätzliche Übungsmöglichkeit und die Besprechung der Probeklausur.\n",
    "<br>\n",
    "    Detailliertere Informationen finden Sie im ILIAS Ordner <em>Tutorium</em>.\n",
    "</div>\n",
    "\n",
    "<div class=\"alert alert-block alert-info\"><b>Online-Quiz</b><br>\n",
    "Mit dem Online-Quiz können Sie Bonuspunkte für die Klausur sammeln. Es wird drei Quizrunden im Semester geben. Die Teilnahme am Quiz wird dringend empfohlen. Sie erhalten hierdurch Rückmeldung zu Ihrem jeweils aktuellen Wissensstand und somit dient das Quiz als ideale Klausurvorbereitung.\n",
    "<ul>\n",
    "    <li>konkrete Terminankündigung erfolgt jeweils eine Woche vorher</li>\n",
    "    <li>für jeweils eine Woche zur Bearbeitung über ILIAS freigeschaltet</li>\n",
    "    <li>jeweilige Bearbeitungsdauer: 30-45 Minuten</li>\n",
    "    <li>je nach Anzahl der korrekten Antworten in allen drei Quizrunden bis zu 3 Bonuspunkte für die Klausur erreichbar  </li>\n",
    "    <li>Bonuspunkte sind im Haupt- und im Folgeprüfungszeitraum des WS 2023/24 anrechenbar</li>\n",
    "</ul>\n",
    "Weitere Informationen finden Sie im ILIAS Ordner <em>Quiz</em>.\n",
    "</div>"
   ]
  },
  {
   "cell_type": "markdown",
   "id": "dcd8436a-fad3-4f7d-a5c2-801ced516202",
   "metadata": {
    "extensions": {
     "jupyter_dashboards": {
      "activeView": "grid_default",
      "views": {
       "grid_default": {
        "col": 0,
        "height": 7,
        "hidden": true,
        "locked": true,
        "row": 9,
        "width": 7
       }
      }
     }
    },
    "tags": []
   },
   "source": [
    "## <span style=\"font-family:Century Gothic;color:DarkCyan\"> Aufgabe 1 </span>\n",
    "### <span style=\"font-family:Century Gothic;color:DarkCyan\"> Aufgabe 1.1 </span>\n",
    "Der Staat kann Entscheidungen in vielfältiger Weise beeinflussen: durch Regulierung, Steuern und Sozialbeiträge, Ausgaben oder finanzpolitische Stabilisierungsmaßnahmen. Ordnen Sie untenstehende Beispielen aus dem aktuellen Tagesgeschehen dem jeweiligen Oberbegriff zu."
   ]
  },
  {
   "cell_type": "code",
   "execution_count": 3,
   "id": "dc44a6da-1898-4cb2-a3aa-06be3706461c",
   "metadata": {
    "extensions": {
     "jupyter_dashboards": {
      "activeView": "grid_default",
      "views": {
       "grid_default": {
        "col": null,
        "height": 2,
        "hidden": true,
        "locked": true,
        "row": null,
        "width": 2
       }
      }
     }
    },
    "tags": []
   },
   "outputs": [
    {
     "data": {
      "application/vnd.jupyter.widget-view+json": {
       "model_id": "76f2b605378f4bf7915cd1703482fa48",
       "version_major": 2,
       "version_minor": 0
      },
      "text/plain": [
       "A Jupyter Widget"
      ]
     },
     "metadata": {},
     "output_type": "display_data"
    },
    {
     "data": {
      "application/vnd.jupyter.widget-view+json": {
       "model_id": "e601f22ed8e64e54bedb6fa897571092",
       "version_major": 2,
       "version_minor": 0
      },
      "text/plain": [
       "A Jupyter Widget"
      ]
     },
     "metadata": {},
     "output_type": "display_data"
    }
   ],
   "source": [
    "file = builtins.open(\"Bilder/Staat_1.png\", \"rb\")\n",
    "image = file.read()\n",
    "bild_1 = widgets.Image(\n",
    "    value=image,\n",
    "    format='png',\n",
    "    width=500,\n",
    "   #height=128,\n",
    "    )\n",
    "\n",
    "slider_1 = widgets.Dropdown(\n",
    "    options=[('Regulierung', 1), ('Steuern und Sozialbeiträge', 2), ('Ausgaben', 3), ('Finanzpolitische Stabilisierungsmaßnahmen', 4)],\n",
    "    value=1,\n",
    "    description='  ',\n",
    ")\n",
    "\n",
    "\n",
    "button_1 = widgets.Button(\n",
    "    description='Auswertung',\n",
    "    disabled=False,\n",
    "    button_style='', # 'success', 'info', 'warning', 'danger' or ''\n",
    "    tooltip='Bitte klicken.',\n",
    "    #icon='check' # (FontAwesome names without the `fa-` prefix)\n",
    ")\n",
    "\n",
    "\n",
    "link_1 = widgets.HTML(\n",
    "    value=\"<a href=https://www.tagesschau.de/ausland/neuseeland-rauchen-101.html target='_blank' rel='noopener noreferrer'>Link zum vollständigen Beitrag</a>\",\n",
    ")\n",
    "\n",
    "\n",
    "# define function\n",
    "def check(button_instance):\n",
    "  if slider_1.value == 1:\n",
    "    button_1.button_style = 'success'\n",
    "    button_1.description='Richtig!'\n",
    "  else:\n",
    "    button_1.button_style = 'danger'\n",
    "    button_1.description='Leider falsch.'\n",
    "\n",
    "# set function as on_click on button\n",
    "button_1.on_click(check)\n",
    "\n",
    "\n",
    "# nebeneinander in Box anzeigen\n",
    "items = [link_1, slider_1, button_1]\n",
    "box_1 = Box(children=items)\n",
    "display(bild_1)\n",
    "display(box_1) # <- this one command displays all children\n"
   ]
  },
  {
   "cell_type": "markdown",
   "id": "c234264c-90a6-4769-9ecf-63d8f00887fa",
   "metadata": {
    "extensions": {
     "jupyter_dashboards": {
      "activeView": "grid_default",
      "views": {
       "grid_default": {
        "col": null,
        "height": 2,
        "hidden": true,
        "locked": true,
        "row": null,
        "width": 2
       }
      }
     }
    }
   },
   "source": [
    "***"
   ]
  },
  {
   "cell_type": "code",
   "execution_count": 4,
   "id": "0933f905-724d-4373-a616-11db4985a0bf",
   "metadata": {
    "extensions": {
     "jupyter_dashboards": {
      "activeView": "grid_default",
      "views": {
       "grid_default": {
        "col": null,
        "height": 2,
        "hidden": true,
        "locked": true,
        "row": null,
        "width": 2
       }
      }
     }
    }
   },
   "outputs": [
    {
     "data": {
      "application/vnd.jupyter.widget-view+json": {
       "model_id": "253344314c694d568fd339f073037021",
       "version_major": 2,
       "version_minor": 0
      },
      "text/plain": [
       "A Jupyter Widget"
      ]
     },
     "metadata": {},
     "output_type": "display_data"
    },
    {
     "data": {
      "application/vnd.jupyter.widget-view+json": {
       "model_id": "146aaf6a10ed4f69ad2df75cbfb08f7c",
       "version_major": 2,
       "version_minor": 0
      },
      "text/plain": [
       "A Jupyter Widget"
      ]
     },
     "metadata": {},
     "output_type": "display_data"
    }
   ],
   "source": [
    "file = builtins.open(\"Bilder/Staat_2.png\", \"rb\")\n",
    "image = file.read()\n",
    "bild_2 = widgets.Image(\n",
    "    value=image,\n",
    "    format='png',\n",
    "    width=500,\n",
    "   #height=128,\n",
    "    )\n",
    "\n",
    "slider_2 = widgets.Dropdown(\n",
    "    options=[('Regulierung', 1), ('Steuern und Sozialbeiträge', 2), ('Ausgaben', 3), ('Finanzpolitische Stabilisierungsmaßnahmen', 4)],\n",
    "    value=1,\n",
    "    description='  ',\n",
    ")\n",
    "\n",
    "\n",
    "button_2 = widgets.Button(\n",
    "    description='Auswertung',\n",
    "    disabled=False,\n",
    "    button_style='', # 'success', 'info', 'warning', 'danger' or ''\n",
    "    tooltip='Bitte klicken.',\n",
    "    #icon='check' # (FontAwesome names without the `fa-` prefix)\n",
    ")\n",
    "\n",
    "\n",
    "link_2 = widgets.HTML(\n",
    "    value=\"<a href=https://www.pharmazeutische-zeitung.de/britische-zuckersteuer-macht-sich-bezahlt-138462/ target='_blank' rel='noopener noreferrer'>Link zum vollständigen Beitrag</a>\",\n",
    ")\n",
    "\n",
    "\n",
    "# define function\n",
    "def check(button_instance):\n",
    "  if slider_2.value == 2:\n",
    "    button_2.button_style = 'success'\n",
    "    button_2.description='Richtig!'\n",
    "  else:\n",
    "    button_2.button_style = 'danger'\n",
    "    button_2.description='Leider falsch.'\n",
    "\n",
    "# set function as on_click on button\n",
    "button_2.on_click(check)\n",
    "\n",
    "\n",
    "# nebeneinander in Box anzeigen\n",
    "items = [link_2, slider_2, button_2]\n",
    "box_2 = Box(children=items)\n",
    "display(bild_2)\n",
    "display(box_2) # <- this one command displays all children\n"
   ]
  },
  {
   "cell_type": "markdown",
   "id": "43247f75-a6d4-48eb-a6a9-76c7fe21559d",
   "metadata": {
    "extensions": {
     "jupyter_dashboards": {
      "activeView": "grid_default",
      "views": {
       "grid_default": {
        "col": null,
        "height": 2,
        "hidden": true,
        "locked": true,
        "row": null,
        "width": 2
       }
      }
     }
    }
   },
   "source": [
    "***"
   ]
  },
  {
   "cell_type": "code",
   "execution_count": 5,
   "id": "9d9fae77-99b6-4614-826f-277716500fa1",
   "metadata": {
    "extensions": {
     "jupyter_dashboards": {
      "activeView": "grid_default",
      "views": {
       "grid_default": {
        "col": null,
        "height": 2,
        "hidden": true,
        "locked": true,
        "row": null,
        "width": 2
       }
      }
     }
    }
   },
   "outputs": [
    {
     "data": {
      "application/vnd.jupyter.widget-view+json": {
       "model_id": "9961405b124b4e05ac34a8a8eaae62e0",
       "version_major": 2,
       "version_minor": 0
      },
      "text/plain": [
       "A Jupyter Widget"
      ]
     },
     "metadata": {},
     "output_type": "display_data"
    },
    {
     "data": {
      "application/vnd.jupyter.widget-view+json": {
       "model_id": "72b1b00b2be749029e233cb3fc1d1821",
       "version_major": 2,
       "version_minor": 0
      },
      "text/plain": [
       "A Jupyter Widget"
      ]
     },
     "metadata": {},
     "output_type": "display_data"
    }
   ],
   "source": [
    "file = builtins.open(\"Bilder/Staat_3.png\", \"rb\")\n",
    "image = file.read()\n",
    "bild_3 = widgets.Image(\n",
    "    value=image,\n",
    "    format='png',\n",
    "    width=500,\n",
    "   #height=128,\n",
    "    )\n",
    "\n",
    "slider_3 = widgets.Dropdown(\n",
    "    options=[('Regulierung', 1), ('Steuern und Sozialbeiträge', 2), ('Ausgaben', 3), ('Finanzpolitische Stabilisierungsmaßnahmen', 4)],\n",
    "    value=1,\n",
    "    description='  ',\n",
    ")\n",
    "\n",
    "\n",
    "button_3 = widgets.Button(\n",
    "    description='Auswertung',\n",
    "    disabled=False,\n",
    "    button_style='', # 'success', 'info', 'warning', 'danger' or ''\n",
    "    tooltip='Bitte klicken.',\n",
    "    #icon='check' # (FontAwesome names without the `fa-` prefix)\n",
    ")\n",
    "\n",
    "\n",
    "link_3 = widgets.HTML(\n",
    "    value=\"<a href=https://www.stuttgarter-zeitung.de/inhalt.foerdermittel-fuer-synergiepark-land-bewilligt-828-000-euro.4d66ab26-ddfb-4c5a-b2a2-a713481a1f35.html target='_blank' rel='noopener noreferrer'>Link zum vollständigen Beitrag</a>\",\n",
    ")\n",
    "\n",
    "\n",
    "# define function\n",
    "def check(button_instance):\n",
    "  if slider_3.value == 3:\n",
    "    button_3.button_style = 'success'\n",
    "    button_3.description='Richtig!'\n",
    "  else:\n",
    "    button_3.button_style = 'danger'\n",
    "    button_3.description='Leider falsch.'\n",
    "\n",
    "# set function as on_click on button\n",
    "button_3.on_click(check)\n",
    "\n",
    "\n",
    "# nebeneinander in Box anzeigen\n",
    "items = [link_3, slider_3, button_3]\n",
    "box_3 = Box(children=items)\n",
    "display(bild_3)\n",
    "display(box_3) # <- this one command displays all children\n"
   ]
  },
  {
   "cell_type": "markdown",
   "id": "0aca7016-2ea2-4f9a-bd14-4d6c8452e86f",
   "metadata": {
    "extensions": {
     "jupyter_dashboards": {
      "activeView": "grid_default",
      "views": {
       "grid_default": {
        "col": null,
        "height": 2,
        "hidden": true,
        "locked": true,
        "row": null,
        "width": 2
       }
      }
     }
    }
   },
   "source": [
    "***"
   ]
  },
  {
   "cell_type": "code",
   "execution_count": 6,
   "id": "fbba204c-f88d-4679-9320-6f485b90bed1",
   "metadata": {
    "extensions": {
     "jupyter_dashboards": {
      "activeView": "grid_default",
      "views": {
       "grid_default": {
        "col": null,
        "height": 2,
        "hidden": true,
        "locked": true,
        "row": null,
        "width": 2
       }
      }
     }
    }
   },
   "outputs": [
    {
     "data": {
      "application/vnd.jupyter.widget-view+json": {
       "model_id": "b962024aff26484f989ebf3ed6e21f43",
       "version_major": 2,
       "version_minor": 0
      },
      "text/plain": [
       "A Jupyter Widget"
      ]
     },
     "metadata": {},
     "output_type": "display_data"
    },
    {
     "data": {
      "application/vnd.jupyter.widget-view+json": {
       "model_id": "14ddb293add1410bafc33d964fde4661",
       "version_major": 2,
       "version_minor": 0
      },
      "text/plain": [
       "A Jupyter Widget"
      ]
     },
     "metadata": {},
     "output_type": "display_data"
    }
   ],
   "source": [
    "file = builtins.open(\"Bilder/Staat_4.png\", \"rb\")\n",
    "image = file.read()\n",
    "bild_4 = widgets.Image(\n",
    "    value=image,\n",
    "    format='png',\n",
    "    width=500,\n",
    "   #height=128,\n",
    "    )\n",
    "\n",
    "slider_4 = widgets.Dropdown(\n",
    "    options=[('Regulierung', 1), ('Steuern und Sozialbeiträge', 2), ('Ausgaben', 3), ('Finanzpolitische Stabilisierungsmaßnahmen', 4)],\n",
    "    value=1,\n",
    "    description='  ',\n",
    ")\n",
    "\n",
    "\n",
    "button_4 = widgets.Button(\n",
    "    description='Auswertung',\n",
    "    disabled=False,\n",
    "    button_style='', # 'success', 'info', 'warning', 'danger' or ''\n",
    "    tooltip='Bitte klicken.',\n",
    "    #icon='check' # (FontAwesome names without the `fa-` prefix)\n",
    ")\n",
    "\n",
    "\n",
    "link_4 = widgets.HTML(\n",
    "    value=\"<a href=https://www.tagesschau.de/inland/union-wirtschaft-sofortprogramm-100.html target='_blank' rel='noopener noreferrer'>Link zum vollständigen Beitrag</a>\",\n",
    ")\n",
    "\n",
    "\n",
    "# define function\n",
    "def check(button_instance):\n",
    "  if slider_4.value == 4:\n",
    "    button_4.button_style = 'success'\n",
    "    button_4.description='Richtig!'\n",
    "  else:\n",
    "    button_4.button_style = 'danger'\n",
    "    button_4.description='Leider falsch.'\n",
    "\n",
    "# set function as on_click on button\n",
    "button_4.on_click(check)\n",
    "\n",
    "\n",
    "# nebeneinander in Box anzeigen\n",
    "items = [link_4, slider_4, button_4]\n",
    "box_4 = Box(children=items)\n",
    "display(bild_4)\n",
    "display(box_4) # <- this one command displays all children\n"
   ]
  },
  {
   "cell_type": "markdown",
   "id": "6c95ad88-2487-48c2-beaf-a79363cbed30",
   "metadata": {
    "extensions": {
     "jupyter_dashboards": {
      "activeView": "grid_default",
      "views": {
       "grid_default": {
        "col": 0,
        "height": 6,
        "hidden": true,
        "locked": true,
        "row": 11,
        "width": 7
       }
      }
     }
    },
    "tags": []
   },
   "source": [
    "### <span style=\"font-family:Century Gothic;color:DarkCyan\"> Aufgabe 1.2 </span>\n",
    "\n",
    "Nennen und erläutern Sie die drei Ziele der Wirtschaftspolitik nach Richard Musgrave. Scannen Sie dazu den untenstehenden QR Code mit Ihrem Handy und geben Sie alle Ziele nacheinander ein."
   ]
  },
  {
   "cell_type": "code",
   "execution_count": 7,
   "id": "2d137a68-5b22-4c7a-815a-05de496f8cda",
   "metadata": {
    "extensions": {
     "jupyter_dashboards": {
      "activeView": "grid_default",
      "views": {
       "grid_default": {
        "col": 7,
        "height": 6,
        "hidden": true,
        "locked": true,
        "row": 11,
        "width": 5
       }
      }
     }
    },
    "tags": []
   },
   "outputs": [
    {
     "data": {
      "application/vnd.jupyter.widget-view+json": {
       "model_id": "973d33089c2e44bca73a1c4218320b3b",
       "version_major": 2,
       "version_minor": 0
      },
      "text/plain": [
       "A Jupyter Widget"
      ]
     },
     "metadata": {},
     "output_type": "display_data"
    }
   ],
   "source": [
    "file = builtins.open(\"Bilder/QR_1.png\", \"rb\")\n",
    "image = file.read()\n",
    "bild_QR = widgets.Image(\n",
    "    value=image,\n",
    "    format='png',\n",
    "    width=200,\n",
    "   #height=128,\n",
    "    )\n",
    "\n",
    "bild_QR"
   ]
  },
  {
   "cell_type": "markdown",
   "id": "a381cf09-ab64-4706-8960-e4c364ec4990",
   "metadata": {
    "extensions": {
     "jupyter_dashboards": {
      "activeView": "grid_default",
      "views": {
       "grid_default": {
        "col": null,
        "height": 2,
        "hidden": true,
        "locked": true,
        "row": null,
        "width": 2
       }
      }
     }
    }
   },
   "source": [
    "## <span style=\"font-family:Century Gothic;color:DarkCyan\"> Aufgabe 2 </span>\n",
    "### <span style=\"font-family:Century Gothic;color:DarkCyan\"> Aufgabe 2.1 </span>\n",
    "Die soziale Wohlfahrtsfunktion $W$ fasst den Nutzen $u_i$ der einzelnen Bürger:innen, $i=1,2,...,N$, zusammen. Sie hat die allgemeine Form \n",
    "\n",
    "$$ W = W(u_1,u_2,...,u_N) \\qquad  \\dfrac{\\partial W}{\\partial u_i} \\geq 0\\, \\forall\\, i $$ \n",
    "\n",
    "Mithilfe der sozialen Wohlfahrtsfunktion kann die Gesamtwohlfahrt berechnet werden. Ziel des Staates ist es diese ..."
   ]
  },
  {
   "cell_type": "code",
   "execution_count": 8,
   "id": "dc939ce7-f223-4663-a7f7-c6235e4649b6",
   "metadata": {},
   "outputs": [
    {
     "data": {
      "application/vnd.jupyter.widget-view+json": {
       "model_id": "f6f53106860d48599f1d318db4f40db0",
       "version_major": 2,
       "version_minor": 0
      },
      "text/plain": [
       "A Jupyter Widget"
      ]
     },
     "metadata": {},
     "output_type": "display_data"
    }
   ],
   "source": [
    "opinion_swf = widgets.RadioButtons(\n",
    "    options=['zu maximinieren','zu minimieren','zu berechnen'],\n",
    "    value=None,\n",
    "    description='',\n",
    "    disabled=False,\n",
    ")\n",
    "\n",
    "button_swf = widgets.Button(\n",
    "    description='Auswertung',\n",
    "    disabled=False,\n",
    "    button_style='', # 'success', 'info', 'warning', 'danger' or ''\n",
    "    tooltip='Bitte klicken.',\n",
    "    #icon='check' # (FontAwesome names without the `fa-` prefix)\n",
    ")\n",
    "\n",
    "\n",
    "# define function\n",
    "def check(button_instance):\n",
    "  if opinion_swf.value == 'zu maximinieren':\n",
    "    button_swf.button_style = 'success'\n",
    "    button_swf.description = 'Richtig!'\n",
    "  else:\n",
    "    button_swf.button_style = 'danger'\n",
    "    button_swf.description = 'Leider falsch.'\n",
    "\n",
    "# set function as on_click on button\n",
    "button_swf.on_click(check)\n",
    "\n",
    "items = [opinion_swf, button_swf]\n",
    "box_swf = Box(children=items)\n",
    "display(box_swf) # <- this one command displays all children"
   ]
  },
  {
   "cell_type": "markdown",
   "id": "d7020052-2313-4b7b-99a7-5ac84b07af55",
   "metadata": {},
   "source": [
    "### <span style=\"font-family:Century Gothic;color:DarkCyan\"> Aufgabe 2.1 </span>\n",
    "Betrachten Sie nun die beiden Individuen Marc und Elon. Beide haben die identische Nutzenfunktion $u_i(I_i)=0,1*I_i$, wobei $I_i$ das Einkommen des Individuums $i$ angibt. \n",
    "\n",
    "Berechnen Sie zunächst das jeweilige Nutzenniveau $u_{Mark}$ und $u_{Elon}$."
   ]
  },
  {
   "cell_type": "code",
   "execution_count": 9,
   "id": "d822ca1d-1057-4b45-b151-c287af9ec29b",
   "metadata": {},
   "outputs": [
    {
     "data": {
      "application/vnd.jupyter.widget-view+json": {
       "model_id": "955b1f8b2fae4ed1ab01e80adb76ffb4",
       "version_major": 2,
       "version_minor": 0
      },
      "text/plain": [
       "A Jupyter Widget"
      ]
     },
     "metadata": {},
     "output_type": "display_data"
    }
   ],
   "source": [
    "file = builtins.open(\"Bilder/Folie1.JPG\", \"rb\")\n",
    "image = file.read()\n",
    "bild_Man_1 = widgets.Image(\n",
    "    value=image,\n",
    "    format='png',\n",
    "    width=500,\n",
    "   #height=128,\n",
    "    )\n",
    "\n",
    "file = builtins.open(\"Bilder/Folie2.JPG\", \"rb\")\n",
    "image = file.read()\n",
    "bild_Man_2 = widgets.Image(\n",
    "    value=image,\n",
    "    format='png',\n",
    "    width=500,\n",
    "   #height=128,\n",
    "    )\n",
    "\n",
    "items = [bild_Man_1, bild_Man_2]\n",
    "box_man = Box(children=items)\n",
    "display(box_man) # <- this one command displays all children\n",
    "\n"
   ]
  },
  {
   "cell_type": "markdown",
   "id": "b22c4a24-4f81-464b-b3f9-d5e68aadf834",
   "metadata": {},
   "source": [
    "### <span style=\"font-family:Century Gothic;color:DarkCyan\"> Aufgabe 2.2: Utilitaristische Wohlfahrtsfunktion </span>\n",
    "Berechnen Sie die Gesamtwohlfahrt, wenn der Staat eine utilitaristische Wohlfahrtsfunktion ansetzt. In welchem Verhältnis stehen die Nutzen der beiden Individuen hierbei zueinander? "
   ]
  },
  {
   "cell_type": "code",
   "execution_count": 10,
   "id": "ee1563cb-7e29-4631-9374-ed6dae1c7313",
   "metadata": {},
   "outputs": [
    {
     "data": {
      "application/vnd.jupyter.widget-view+json": {
       "model_id": "d210e7dc0a1544f28eaca0f980ee68d8",
       "version_major": 2,
       "version_minor": 0
      },
      "text/plain": [
       "A Jupyter Widget"
      ]
     },
     "metadata": {},
     "output_type": "display_data"
    }
   ],
   "source": [
    "accordion_uti = widgets.Accordion([\n",
    "    widgets.Label(\n",
    "        value=\"$$ W(u_1,\\dots,u_N) = \\sum u_i $$\",\n",
    "        placeholder='Some LaTeX',\n",
    "        description='Some LaTeX',\n",
    "        disabled=False\n",
    "    ),\n",
    "    widgets.Label(\n",
    "        value=\"$$  W(u_M, u_E) = u_M + u_E = 10 + 100 $$\",\n",
    "        placeholder='Some LaTeX',\n",
    "        description='Some LaTeX',\n",
    "        disabled=False \n",
    "        ),\n",
    "    widgets.Label(\n",
    "        value=\"Nutzen sind perfekt substituierbar.\",\n",
    "        placeholder='Some LaTeX',\n",
    "        description='Some LaTeX',\n",
    "        disabled=False \n",
    ")], selected_index=None)\n",
    "accordion_uti.set_title(0, 'Allgemeine Form')\n",
    "accordion_uti.set_title(1, 'Rechnung')\n",
    "accordion_uti.set_title(2, 'Eigenschaften')\n",
    "\n",
    "accordion_uti"
   ]
  },
  {
   "cell_type": "markdown",
   "id": "c36f8560-d109-49cd-9465-a67b126bfd6c",
   "metadata": {},
   "source": [
    "### <span style=\"font-family:Century Gothic;color:DarkCyan\"> Aufgabe 2.3: Rawls’sche Wohlfahrtsfunktion </span>\n",
    "Berechnen Sie die Gesamtwohlfahrt, wenn der Staat eine Rawls’sche Wohlfahrtsfunktion ansetzt. In welchem Verhältnis stehen die Nutzen der beiden Individuen hierbei zueinander?"
   ]
  },
  {
   "cell_type": "code",
   "execution_count": 11,
   "id": "1dbfdb5d-7846-44f8-933b-d0ae1aeaa40a",
   "metadata": {},
   "outputs": [
    {
     "data": {
      "application/vnd.jupyter.widget-view+json": {
       "model_id": "0214a3139a6f4d4e89c9969304a51a46",
       "version_major": 2,
       "version_minor": 0
      },
      "text/plain": [
       "A Jupyter Widget"
      ]
     },
     "metadata": {},
     "output_type": "display_data"
    }
   ],
   "source": [
    "accordion_raw = widgets.Accordion([\n",
    "    widgets.Label(\n",
    "        value=\"$$ W(u_1,\\dots,u_N) = min(u_1,\\dots,u_N) $$\",\n",
    "        placeholder='Some LaTeX',\n",
    "        description='Some LaTeX',\n",
    "        disabled=False\n",
    "    ),\n",
    "    widgets.Label(\n",
    "        value=\"$$  W(u_M, u_E) = min(u_M, u_E) = min(10,100) = 10 $$\",\n",
    "        placeholder='Some LaTeX',\n",
    "        description='Some LaTeX',\n",
    "        disabled=False \n",
    "        ),\n",
    "    widgets.Label(\n",
    "        value=\"Nutzen der Individuen sind nicht substituierbar.\",\n",
    "        placeholder='Some LaTeX',\n",
    "        description='Some LaTeX',\n",
    "        disabled=False \n",
    ")], selected_index=None)\n",
    "accordion_raw.set_title(0, 'Allgemeine Form')\n",
    "accordion_raw.set_title(1, 'Rechnung')\n",
    "accordion_raw.set_title(2, 'Eigenschaften')\n",
    "\n",
    "accordion_raw"
   ]
  },
  {
   "cell_type": "markdown",
   "id": "a218f4a0-0bd4-47c0-a831-752d6596266c",
   "metadata": {},
   "source": [
    "### <span style=\"font-family:Century Gothic;color:DarkCyan\"> Aufgabe 2.4: Isoelastische Wohlfahrtsfunktion </span>\n",
    "Berechnen Sie die Gesamtwohlfahrt, wenn der Staat eine isoelastische Wohlfahrtsfunktion mit $e=2$ ansetzt. In welchem Verhältnis stehen die Nutzen der beiden Individuen hierbei zueinander?"
   ]
  },
  {
   "cell_type": "code",
   "execution_count": 12,
   "id": "f1800528-cbe0-47c7-885b-2877564e4283",
   "metadata": {},
   "outputs": [
    {
     "data": {
      "application/vnd.jupyter.widget-view+json": {
       "model_id": "e669718f3cb74796a11464a7cdb3bdfc",
       "version_major": 2,
       "version_minor": 0
      },
      "text/plain": [
       "A Jupyter Widget"
      ]
     },
     "metadata": {},
     "output_type": "display_data"
    }
   ],
   "source": [
    "accordion_iso = widgets.Accordion([\n",
    "    widgets.Label(\n",
    "        value=\"$$ W(u_1,\\dots,u_N) = \\dfrac{\\sum u_i^{(1-e)}}{(1-e)} $$\",\n",
    "        placeholder='Some LaTeX',\n",
    "        description='Some LaTeX',\n",
    "        disabled=False\n",
    "    ),\n",
    "    widgets.Label(\n",
    "        value=\"$$  W(u_M, u_E) = \\dfrac{u_M^{-1}+u_E^{-1}}{-1} = - (10^{-1}+100^{-1}) = - 0,11 $$\",\n",
    "        placeholder='Some LaTeX',\n",
    "        description='Some LaTeX',\n",
    "        disabled=False \n",
    "        ),\n",
    "  widgets.HTML(\n",
    "    value=\"Enthält die beiden anderen Wohlfahrtsfunktionen als Spezialfälle. Gibt es keine Abneigung gegen Ungleichheit (e=0), entspricht die Funktion der Utilitaristischen Wohlfahrtsfunktion. Ist die Ungleichheitsaversion sehr groß (e=&infin;), entspricht die Funktion der Rawls’schen Wohlfahrtsfunktion.\",\n",
    "    )], selected_index=None)\n",
    "accordion_iso.set_title(0, 'Allgemeine Form')\n",
    "accordion_iso.set_title(1, 'Rechnung')\n",
    "accordion_iso.set_title(2, 'Eigenschaften')\n",
    "\n",
    "accordion_iso"
   ]
  },
  {
   "cell_type": "markdown",
   "id": "138902d3-6624-41f9-adbc-16cf95a33b60",
   "metadata": {},
   "source": [
    "### <span style=\"font-family:Century Gothic;color:DarkCyan\"> Aufgabe 2.5 </span>\n",
    "Der Staat überlegt, Elons Einkommen mit einer Steuer von 300€ zu belegen und diese Einnahmen als Transferzahlung an Mark auszuzahlen. Würde diese Reform die Gesamtwohlfahrt steigern? Vergleichen Sie die Gesamtwohlfahrt vor und nach der Reform im Falle einer (i) Utilitaristischen Wohlfahrtsfunktion und einer (ii) Rawls’schen Wohlfahrtsfunktion."
   ]
  },
  {
   "cell_type": "code",
   "execution_count": 13,
   "id": "2d83569a-d60d-4cca-a325-ec45c65b4eb4",
   "metadata": {},
   "outputs": [
    {
     "data": {
      "application/vnd.jupyter.widget-view+json": {
       "model_id": "0040f95b97b84eb6a8455c3ef9b6b834",
       "version_major": 2,
       "version_minor": 0
      },
      "text/plain": [
       "A Jupyter Widget"
      ]
     },
     "metadata": {},
     "output_type": "display_data"
    }
   ],
   "source": [
    "accordion_raw = widgets.Accordion([\n",
    "    widgets.Label(\n",
    "        value=\"$$ W^0(10, 100) = 10 = W^1(40, 70) $$\",\n",
    "        placeholder='Some LaTeX',\n",
    "        description='Some LaTeX',\n",
    "        disabled=False\n",
    "    ),\n",
    "    widgets.Label(\n",
    "        value=\"$$  W^0(10, 100) = 10 < 40 = W^1(40, 70) $$\",\n",
    "        placeholder='Some LaTeX',\n",
    "        description='Some LaTeX',\n",
    "        disabled=False \n",
    "        ),\n",
    "    widgets.HTML(\n",
    "    value=\"Wird eine utilitaristische Wohlfahrtsfunktion angenommen, entspricht die Gesamtwohlfahrt nach der Reform der Gesamtwohlfahrt vor der Reform. Die Reform steigert somit nicht die Gesamtwohlfahrt. <br>Wird eine Rawls’sche Wohlfahrtsfunktion angenommen, ist die Gesamtwohlfahrt nach der Reform höher als die Gesamtwohlfahrt vor der Reform. Die Reform steigert somit die Gesamtwohlfahrt und sollte durchgeführt werden.\",\n",
    "    )], selected_index=None)\n",
    "accordion_raw.set_title(0, 'Utilitaristische Wohlfahrtsfunktion')\n",
    "accordion_raw.set_title(1, 'Rawls’schen Wohlfahrtsfunktion')\n",
    "accordion_raw.set_title(2, 'Vergleich')\n",
    "\n",
    "accordion_raw"
   ]
  },
  {
   "cell_type": "markdown",
   "id": "2f7f4413-e016-42bb-9a26-f5f4207871aa",
   "metadata": {},
   "source": [
    "## <span style=\"font-family:Century Gothic;color:DarkCyan\"> Aufgabe 3 </span>\n",
    "Zur Bestimmung des wohlfahrtsmaximierenden Punkts ist neben der Wohlfahrtsfunktion auch die Nutzenmöglichkeitsgrenze relevant. "
   ]
  },
  {
   "cell_type": "code",
   "execution_count": 14,
   "id": "2c6c0e89-bbe7-4d8c-9aac-c50af2312c97",
   "metadata": {},
   "outputs": [
    {
     "data": {
      "application/vnd.jupyter.widget-view+json": {
       "model_id": "024fb1087e404502b2497d11c59e64e2",
       "version_major": 2,
       "version_minor": 0
      },
      "text/plain": [
       "A Jupyter Widget"
      ]
     },
     "metadata": {},
     "output_type": "display_data"
    }
   ],
   "source": [
    "file = builtins.open(\"Bilder/SWF_0.png\", \"rb\")\n",
    "image = file.read()\n",
    "bild_SWF_0 = widgets.Image(\n",
    "    value=image,\n",
    "    format='png',\n",
    "    width=500,\n",
    "   #height=128,\n",
    "    )\n",
    "\n",
    "bild_SWF_0"
   ]
  },
  {
   "cell_type": "markdown",
   "id": "6751b195-9400-4cb6-a78e-b15e3ef7a3ca",
   "metadata": {},
   "source": [
    "### <span style=\"font-family:Century Gothic;color:DarkCyan\"> Aufgabe 3.1 </span>\n",
    "Auf der Nutzenmöglichkeitsgrenze sind die Nutzenkombinationen aus allen Pareto-effizienten Allokationen abgetragen. Sie kann aus der Kontraktkurve der Edgeworth-Box hergeleitet werden und verschiedene Formen annehmen. \n",
    "\n",
    "Der wohlfahrtsmaximierende Punkt befindet sich im Tangentialpunkt zwischen Nutzenmöglichkeitsgrenze und … "
   ]
  },
  {
   "cell_type": "code",
   "execution_count": 15,
   "id": "e366e1f3-b8b9-4c88-84b1-a4122aa996b3",
   "metadata": {},
   "outputs": [
    {
     "data": {
      "application/vnd.jupyter.widget-view+json": {
       "model_id": "fd6ccb82aa084f8e9d48527613423198",
       "version_major": 2,
       "version_minor": 0
      },
      "text/plain": [
       "A Jupyter Widget"
      ]
     },
     "metadata": {},
     "output_type": "display_data"
    },
    {
     "data": {
      "application/vnd.jupyter.widget-view+json": {
       "model_id": "69cb02239e734152be2aaf691d50c338",
       "version_major": 2,
       "version_minor": 0
      },
      "text/plain": [
       "A Jupyter Widget"
      ]
     },
     "metadata": {},
     "output_type": "display_data"
    }
   ],
   "source": [
    "opinion_Reg = widgets.RadioButtons(\n",
    "    options=['Gesellschaftlicher Indifferenzkurve','Wohlfahrtsfunktion','Ordinate'],\n",
    "    value=None,\n",
    "    #description='Faktoren',\n",
    "    disabled=False\n",
    ")\n",
    "\n",
    "button_Reg = widgets.Button(\n",
    "    description='Auswertung',\n",
    "    disabled=False,\n",
    "    button_style='', # 'success', 'info', 'warning', 'danger' or ''\n",
    "    tooltip='Bitte klicken.',\n",
    "    #icon='check' # (FontAwesome names without the `fa-` prefix)\n",
    ")\n",
    "\n",
    "# define function\n",
    "def check(button_Reg):\n",
    "  if opinion_Reg.value == 'Gesellschaftlicher Indifferenzkurve':\n",
    "    button_Reg.button_style = 'success'\n",
    "    button_Reg.description = 'Richtig!'\n",
    "  else:\n",
    "    button_Reg.button_style = 'danger'\n",
    "    button_Reg.description = 'Leider falsch.'\n",
    "\n",
    "# set function as on_click on button\n",
    "button_Reg.on_click(check)\n",
    "\n",
    "\n",
    "display(opinion_Reg)\n",
    "display(button_Reg)"
   ]
  },
  {
   "cell_type": "markdown",
   "id": "73d280f3-3aaf-473c-bb51-b7edca1d844a",
   "metadata": {},
   "source": [
    "### <span style=\"font-family:Century Gothic;color:DarkCyan\"> Aufgabe 3.2 </span>\n",
    "\n",
    "Die folgende Grafik illustriert die Situation für zwei Individuen $i={1,2}$. Skizzieren Sie in der Grafik die gesellschaftlichen Indifferenzkurven im Falle einer (i) utilitaristischen Wohlfahrtsfunktion, einer (ii) Rawls’schen Wohlfahrtsfunktion und einer (iii) isoelastischen Wohlfahrtsfunktion.\n",
    "\n",
    "*Hinweis: Hier ist nur die Form, nicht die exakte Lage wichtig.*"
   ]
  },
  {
   "cell_type": "code",
   "execution_count": 16,
   "id": "12d2307c-29db-4fe3-8693-86ce95ed39c3",
   "metadata": {},
   "outputs": [
    {
     "data": {
      "application/vnd.jupyter.widget-view+json": {
       "model_id": "fec518c6d04b47c3bbe89b09f5446f20",
       "version_major": 2,
       "version_minor": 0
      },
      "text/plain": [
       "A Jupyter Widget"
      ]
     },
     "metadata": {},
     "output_type": "display_data"
    }
   ],
   "source": [
    "file = builtins.open(\"Bilder/SWF_1.png\", \"rb\")\n",
    "image_1 = file.read()\n",
    "\n",
    "file = builtins.open(\"Bilder/SWF_2.png\", \"rb\")\n",
    "image_2 = file.read()\n",
    "\n",
    "file = builtins.open(\"Bilder/SWF_3.png\", \"rb\")\n",
    "image_3 = file.read()\n",
    "\n",
    "accordion_image = widgets.Accordion(children=[\n",
    "    widgets.Image(\n",
    "    value=image_1,\n",
    "    format='png',\n",
    "    width=500,\n",
    "    ),\n",
    "    widgets.Image(\n",
    "    value=image_2,\n",
    "    format='png',\n",
    "    width=500,\n",
    "    ),\n",
    "    widgets.Image(\n",
    "    value=image_3,\n",
    "    format='png',\n",
    "    width=500,\n",
    "    )], selected_index=None)\n",
    "accordion_image.set_title(0, 'Utilitaristische Wohlfahrtsfunktion')\n",
    "accordion_image.set_title(1, 'Rawls’schen Wohlfahrtsfunktion')\n",
    "accordion_image.set_title(2, 'Isoelastische Wohlfahrtsfunktion')\n",
    "\n",
    "accordion_image"
   ]
  },
  {
   "cell_type": "markdown",
   "id": "3be09686-4db1-4c0f-b6c1-3ddcba724032",
   "metadata": {},
   "source": [
    "### <span style=\"font-family:Century Gothic;color:DarkCyan\"> Aufgabe 3.3 </span>\n",
    "Gehen Sie von den oben dargestellten, beispielhaften gesellschaftlichen Indifferenzkurven aus. In welchem Fall ist der Nutzen der beiden Individuen im wohlfahrtsmaximierenden Punkt identisch?"
   ]
  },
  {
   "cell_type": "code",
   "execution_count": 18,
   "id": "37dd3f68-dacc-432c-9068-88da66f11794",
   "metadata": {},
   "outputs": [
    {
     "data": {
      "application/vnd.jupyter.widget-view+json": {
       "model_id": "c6959176fb3e4c3b848b4c1eff6e7a5c",
       "version_major": 2,
       "version_minor": 0
      },
      "text/plain": [
       "A Jupyter Widget"
      ]
     },
     "metadata": {},
     "output_type": "display_data"
    },
    {
     "data": {
      "application/vnd.jupyter.widget-view+json": {
       "model_id": "8ad2e97712934b11abadfddec529b52f",
       "version_major": 2,
       "version_minor": 0
      },
      "text/plain": [
       "A Jupyter Widget"
      ]
     },
     "metadata": {},
     "output_type": "display_data"
    }
   ],
   "source": [
    "opinion_swf = widgets.RadioButtons(\n",
    "    options=['Utilitaristische Wohlfahrtsfunktion','Rawls’sche Wohlfahrtsfunktion','Isoelastische Wohlfahrtsfunktion'],\n",
    "    value=None,\n",
    "    #description='Faktoren',\n",
    "    disabled=False\n",
    ")\n",
    "\n",
    "button_swf = widgets.Button(\n",
    "    description='Auswertung',\n",
    "    disabled=False,\n",
    "    button_style='', # 'success', 'info', 'warning', 'danger' or ''\n",
    "    tooltip='Bitte klicken.',\n",
    "    #icon='check' # (FontAwesome names without the `fa-` prefix)\n",
    ")\n",
    "\n",
    "# define function\n",
    "def check(button_swf):\n",
    "  if opinion_swf.value == 'Rawls’sche Wohlfahrtsfunktion':\n",
    "    button_swf.button_style = 'success'\n",
    "    button_swf.description = 'Richtig!'\n",
    "  else:\n",
    "    button_swf.button_style = 'danger'\n",
    "    button_swf.description = 'Leider falsch.'\n",
    "\n",
    "# set function as on_click on button\n",
    "button_swf.on_click(check)\n",
    "\n",
    "\n",
    "display(opinion_swf)\n",
    "display(button_swf)"
   ]
  },
  {
   "cell_type": "markdown",
   "id": "004809e4-4d9d-4bda-9d1e-d9fb669217fb",
   "metadata": {},
   "source": [
    "<div class=\"alert alert-block alert-danger\"> Übungsblatt 2 wird diese Woche für Sie freigeschalten. Bitte bearbeiten Sie diese Übungsblatt selbständig <b>vor</b> der dazugehörigen Präsenzveranstaltung in der kommenden Woche.</div>"
   ]
  },
  {
   "cell_type": "code",
   "execution_count": null,
   "id": "cf63ed81-928e-4eab-9323-7cc18f28b9c6",
   "metadata": {},
   "outputs": [],
   "source": []
  }
 ],
 "metadata": {
  "extensions": {
   "jupyter_dashboards": {
    "activeView": "grid_default",
    "version": 1,
    "views": {
     "grid_default": {
      "cellMargin": 2,
      "defaultCellHeight": 40,
      "maxColumns": 12,
      "name": "grid",
      "type": "grid"
     }
    }
   }
  },
  "kernelspec": {
   "display_name": "Python 3 (ipykernel)",
   "language": "python",
   "name": "python3"
  },
  "language_info": {
   "codemirror_mode": {
    "name": "ipython",
    "version": 3
   },
   "file_extension": ".py",
   "mimetype": "text/x-python",
   "name": "python",
   "nbconvert_exporter": "python",
   "pygments_lexer": "ipython3",
   "version": "3.7.3"
  }
 },
 "nbformat": 4,
 "nbformat_minor": 5
}
